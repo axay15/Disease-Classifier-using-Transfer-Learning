{
 "cells": [
  {
   "cell_type": "code",
   "execution_count": 1,
   "metadata": {},
   "outputs": [],
   "source": [
    "import numpy as np\n",
    "import pandas as pd\n",
    "import matplotlib.pyplot as plt\n",
    "%matplotlib inline"
   ]
  },
  {
   "cell_type": "code",
   "execution_count": 2,
   "metadata": {},
   "outputs": [],
   "source": [
    "from tensorflow.keras.layers import Input, Lambda, Dense, Flatten,Conv2D\n",
    "from tensorflow.keras.models import Model\n",
    "from tensorflow.keras.applications.vgg19 import VGG19\n",
    "from tensorflow.keras.applications.vgg19 import preprocess_input\n",
    "# from tensorflow.keras.applications.resnet50 import ResNet50\n",
    "# from tensorflow.keras.applications.resnet50 import preprocess_input\n",
    "from tensorflow.keras.preprocessing import image\n",
    "from tensorflow.keras.preprocessing.image import ImageDataGenerator,load_img\n",
    "from tensorflow.keras.models import Sequential\n",
    "from tensorflow.keras.layers import MaxPooling2D"
   ]
  },
  {
   "cell_type": "code",
   "execution_count": 3,
   "metadata": {},
   "outputs": [],
   "source": [
    "IMAGE_SIZE = [224, 224]\n",
    "\n",
    "train_path = '/Users/akshayadlakha/Downloads/Dataset/Train'\n",
    "test_path = '/Users/akshayadlakha/Downloads/Dataset/Test'"
   ]
  },
  {
   "cell_type": "code",
   "execution_count": 4,
   "metadata": {},
   "outputs": [],
   "source": [
    "base_model = VGG19(input_shape=IMAGE_SIZE + [3], weights='imagenet', include_top=False) "
   ]
  },
  {
   "cell_type": "code",
   "execution_count": 5,
   "metadata": {},
   "outputs": [],
   "source": [
    "for layer in base_model.layers:\n",
    "    layer.trainable = False"
   ]
  },
  {
   "cell_type": "code",
   "execution_count": 6,
   "metadata": {},
   "outputs": [
    {
     "data": {
      "text/plain": [
       "['/Users/akshayadlakha/Downloads/Dataset/Train/Parasite',\n",
       " '/Users/akshayadlakha/Downloads/Dataset/Train/Uninfected']"
      ]
     },
     "execution_count": 6,
     "metadata": {},
     "output_type": "execute_result"
    }
   ],
   "source": [
    "from glob import glob\n",
    "\n",
    "folders = glob('/Users/akshayadlakha/Downloads/Dataset/Train/*')\n",
    "\n",
    "folders"
   ]
  },
  {
   "cell_type": "code",
   "execution_count": 7,
   "metadata": {},
   "outputs": [
    {
     "data": {
      "text/plain": [
       "<tensorflow.python.keras.engine.functional.Functional at 0x7fcc12456d50>"
      ]
     },
     "execution_count": 7,
     "metadata": {},
     "output_type": "execute_result"
    }
   ],
   "source": [
    "base_model"
   ]
  },
  {
   "cell_type": "code",
   "execution_count": 8,
   "metadata": {},
   "outputs": [],
   "source": [
    "x = Flatten()(base_model.output)"
   ]
  },
  {
   "cell_type": "code",
   "execution_count": 9,
   "metadata": {},
   "outputs": [],
   "source": [
    "model = Model(inputs=base_model.input, outputs=Dense(len(folders), activation='softmax')(x))"
   ]
  },
  {
   "cell_type": "code",
   "execution_count": 10,
   "metadata": {},
   "outputs": [
    {
     "name": "stdout",
     "output_type": "stream",
     "text": [
      "Model: \"functional_1\"\n",
      "_________________________________________________________________\n",
      "Layer (type)                 Output Shape              Param #   \n",
      "=================================================================\n",
      "input_1 (InputLayer)         [(None, 224, 224, 3)]     0         \n",
      "_________________________________________________________________\n",
      "block1_conv1 (Conv2D)        (None, 224, 224, 64)      1792      \n",
      "_________________________________________________________________\n",
      "block1_conv2 (Conv2D)        (None, 224, 224, 64)      36928     \n",
      "_________________________________________________________________\n",
      "block1_pool (MaxPooling2D)   (None, 112, 112, 64)      0         \n",
      "_________________________________________________________________\n",
      "block2_conv1 (Conv2D)        (None, 112, 112, 128)     73856     \n",
      "_________________________________________________________________\n",
      "block2_conv2 (Conv2D)        (None, 112, 112, 128)     147584    \n",
      "_________________________________________________________________\n",
      "block2_pool (MaxPooling2D)   (None, 56, 56, 128)       0         \n",
      "_________________________________________________________________\n",
      "block3_conv1 (Conv2D)        (None, 56, 56, 256)       295168    \n",
      "_________________________________________________________________\n",
      "block3_conv2 (Conv2D)        (None, 56, 56, 256)       590080    \n",
      "_________________________________________________________________\n",
      "block3_conv3 (Conv2D)        (None, 56, 56, 256)       590080    \n",
      "_________________________________________________________________\n",
      "block3_conv4 (Conv2D)        (None, 56, 56, 256)       590080    \n",
      "_________________________________________________________________\n",
      "block3_pool (MaxPooling2D)   (None, 28, 28, 256)       0         \n",
      "_________________________________________________________________\n",
      "block4_conv1 (Conv2D)        (None, 28, 28, 512)       1180160   \n",
      "_________________________________________________________________\n",
      "block4_conv2 (Conv2D)        (None, 28, 28, 512)       2359808   \n",
      "_________________________________________________________________\n",
      "block4_conv3 (Conv2D)        (None, 28, 28, 512)       2359808   \n",
      "_________________________________________________________________\n",
      "block4_conv4 (Conv2D)        (None, 28, 28, 512)       2359808   \n",
      "_________________________________________________________________\n",
      "block4_pool (MaxPooling2D)   (None, 14, 14, 512)       0         \n",
      "_________________________________________________________________\n",
      "block5_conv1 (Conv2D)        (None, 14, 14, 512)       2359808   \n",
      "_________________________________________________________________\n",
      "block5_conv2 (Conv2D)        (None, 14, 14, 512)       2359808   \n",
      "_________________________________________________________________\n",
      "block5_conv3 (Conv2D)        (None, 14, 14, 512)       2359808   \n",
      "_________________________________________________________________\n",
      "block5_conv4 (Conv2D)        (None, 14, 14, 512)       2359808   \n",
      "_________________________________________________________________\n",
      "block5_pool (MaxPooling2D)   (None, 7, 7, 512)         0         \n",
      "_________________________________________________________________\n",
      "flatten (Flatten)            (None, 25088)             0         \n",
      "_________________________________________________________________\n",
      "dense (Dense)                (None, 2)                 50178     \n",
      "=================================================================\n",
      "Total params: 20,074,562\n",
      "Trainable params: 50,178\n",
      "Non-trainable params: 20,024,384\n",
      "_________________________________________________________________\n"
     ]
    }
   ],
   "source": [
    "model.summary()"
   ]
  },
  {
   "cell_type": "code",
   "execution_count": 11,
   "metadata": {},
   "outputs": [],
   "source": [
    "# model=Sequential()\n",
    "# model.add(Conv2D(filters=16,kernel_size=2,padding=\"same\",activation=\"relu\",input_shape=(224,224,3)))\n",
    "# model.add(MaxPooling2D(pool_size=2))\n",
    "# model.add(Conv2D(filters=32,kernel_size=2,padding=\"same\",activation =\"relu\"))\n",
    "# model.add(MaxPooling2D(pool_size=2))\n",
    "# model.add(Conv2D(filters=64,kernel_size=2,padding=\"same\",activation=\"relu\"))\n",
    "# model.add(MaxPooling2D(pool_size=2))\n",
    "# model.add(Flatten())\n",
    "# model.add(Dense(500,activation=\"relu\"))\n",
    "# model.add(Dense(2,activation=\"softmax\"))\n",
    "# model.summary()"
   ]
  },
  {
   "cell_type": "code",
   "execution_count": 12,
   "metadata": {},
   "outputs": [],
   "source": [
    "model.compile(\n",
    "  loss='categorical_crossentropy',\n",
    "  optimizer='adam',\n",
    "  metrics=['accuracy']\n",
    ")"
   ]
  },
  {
   "cell_type": "code",
   "execution_count": 13,
   "metadata": {},
   "outputs": [],
   "source": [
    "from tensorflow.keras.preprocessing.image import ImageDataGenerator\n",
    "\n",
    "train_datagen = ImageDataGenerator(rescale = 1./255,\n",
    "                                   shear_range = 0.2,\n",
    "                                   zoom_range = 0.2,\n",
    "                                   horizontal_flip = True)\n",
    "\n",
    "test_datagen = ImageDataGenerator(rescale = 1./255)"
   ]
  },
  {
   "cell_type": "code",
   "execution_count": 14,
   "metadata": {},
   "outputs": [
    {
     "name": "stdout",
     "output_type": "stream",
     "text": [
      "Found 416 images belonging to 2 classes.\n"
     ]
    }
   ],
   "source": [
    "training_set = train_datagen.flow_from_directory('/Users/akshayadlakha/Downloads/Dataset/Train',\n",
    "                                                 target_size = (224, 224),\n",
    "                                                 batch_size = 32,\n",
    "                                                 class_mode = 'categorical')"
   ]
  },
  {
   "cell_type": "code",
   "execution_count": 15,
   "metadata": {},
   "outputs": [
    {
     "name": "stdout",
     "output_type": "stream",
     "text": [
      "Found 134 images belonging to 2 classes.\n"
     ]
    }
   ],
   "source": [
    "test_set = test_datagen.flow_from_directory('/Users/akshayadlakha/Downloads/Dataset/Test',\n",
    "                                            target_size = (224, 224),\n",
    "                                            batch_size = 32,\n",
    "                                            class_mode = 'categorical')\n"
   ]
  },
  {
   "cell_type": "code",
   "execution_count": 17,
   "metadata": {},
   "outputs": [
    {
     "name": "stdout",
     "output_type": "stream",
     "text": [
      "Epoch 1/25\n",
      "13/13 [==============================] - 84s 6s/step - loss: 0.7175 - accuracy: 0.6346 - val_loss: 1.0464 - val_accuracy: 0.4179\n",
      "Epoch 2/25\n",
      "13/13 [==============================] - 87s 7s/step - loss: 0.4988 - accuracy: 0.7500 - val_loss: 0.4530 - val_accuracy: 0.7313\n",
      "Epoch 3/25\n",
      "13/13 [==============================] - 88s 7s/step - loss: 0.4049 - accuracy: 0.8077 - val_loss: 0.4593 - val_accuracy: 0.7836\n",
      "Epoch 4/25\n",
      "13/13 [==============================] - 88s 7s/step - loss: 0.3564 - accuracy: 0.8341 - val_loss: 0.4196 - val_accuracy: 0.7985\n",
      "Epoch 5/25\n",
      "13/13 [==============================] - 91s 7s/step - loss: 0.3451 - accuracy: 0.8510 - val_loss: 0.3729 - val_accuracy: 0.8209\n",
      "Epoch 6/25\n",
      "13/13 [==============================] - 95s 7s/step - loss: 0.2747 - accuracy: 0.8918 - val_loss: 0.3662 - val_accuracy: 0.8284\n",
      "Epoch 7/25\n",
      "13/13 [==============================] - 107s 8s/step - loss: 0.2665 - accuracy: 0.8870 - val_loss: 0.3585 - val_accuracy: 0.8507\n",
      "Epoch 8/25\n",
      "13/13 [==============================] - 110s 8s/step - loss: 0.2793 - accuracy: 0.8846 - val_loss: 0.3362 - val_accuracy: 0.8060\n",
      "Epoch 9/25\n",
      "13/13 [==============================] - 131s 10s/step - loss: 0.2916 - accuracy: 0.8654 - val_loss: 0.5286 - val_accuracy: 0.7239\n",
      "Epoch 10/25\n",
      "13/13 [==============================] - 124s 10s/step - loss: 0.2266 - accuracy: 0.9183 - val_loss: 0.3088 - val_accuracy: 0.8731\n",
      "Epoch 11/25\n",
      "13/13 [==============================] - 108s 8s/step - loss: 0.1914 - accuracy: 0.9519 - val_loss: 0.3210 - val_accuracy: 0.8657\n",
      "Epoch 12/25\n",
      "13/13 [==============================] - 110s 8s/step - loss: 0.1826 - accuracy: 0.9327 - val_loss: 0.2872 - val_accuracy: 0.8731\n",
      "Epoch 13/25\n",
      "13/13 [==============================] - 126s 10s/step - loss: 0.1777 - accuracy: 0.9543 - val_loss: 0.3215 - val_accuracy: 0.8881\n",
      "Epoch 14/25\n",
      "13/13 [==============================] - 132s 10s/step - loss: 0.1652 - accuracy: 0.9495 - val_loss: 0.3021 - val_accuracy: 0.8881\n",
      "Epoch 15/25\n",
      "13/13 [==============================] - 127s 10s/step - loss: 0.1478 - accuracy: 0.9736 - val_loss: 0.2506 - val_accuracy: 0.9179\n",
      "Epoch 16/25\n",
      "13/13 [==============================] - 137s 11s/step - loss: 0.1635 - accuracy: 0.9375 - val_loss: 0.2529 - val_accuracy: 0.9179\n",
      "Epoch 17/25\n",
      "13/13 [==============================] - 126s 10s/step - loss: 0.1670 - accuracy: 0.9399 - val_loss: 0.4695 - val_accuracy: 0.7463\n",
      "Epoch 18/25\n",
      "13/13 [==============================] - 120s 9s/step - loss: 0.1633 - accuracy: 0.9351 - val_loss: 0.2488 - val_accuracy: 0.8881\n",
      "Epoch 19/25\n",
      "13/13 [==============================] - 120s 9s/step - loss: 0.1843 - accuracy: 0.9327 - val_loss: 0.3457 - val_accuracy: 0.8507\n",
      "Epoch 20/25\n",
      "13/13 [==============================] - 108s 8s/step - loss: 0.1864 - accuracy: 0.9303 - val_loss: 0.2825 - val_accuracy: 0.8582\n",
      "Epoch 21/25\n",
      "13/13 [==============================] - 106s 8s/step - loss: 0.1826 - accuracy: 0.9303 - val_loss: 0.4777 - val_accuracy: 0.7537\n",
      "Epoch 22/25\n",
      "13/13 [==============================] - 111s 9s/step - loss: 0.1555 - accuracy: 0.9615 - val_loss: 0.3111 - val_accuracy: 0.8881\n",
      "Epoch 23/25\n",
      "13/13 [==============================] - 111s 9s/step - loss: 0.1536 - accuracy: 0.9471 - val_loss: 0.2445 - val_accuracy: 0.9104\n",
      "Epoch 24/25\n",
      "13/13 [==============================] - 102s 8s/step - loss: 0.1317 - accuracy: 0.9519 - val_loss: 0.3204 - val_accuracy: 0.8657\n",
      "Epoch 25/25\n",
      "13/13 [==============================] - 107s 8s/step - loss: 0.1190 - accuracy: 0.9712 - val_loss: 0.2229 - val_accuracy: 0.9030\n"
     ]
    }
   ],
   "source": [
    "r = model.fit(\n",
    "  training_set,\n",
    "  validation_data=test_set,\n",
    "  epochs=25,\n",
    "  steps_per_epoch=len(training_set),\n",
    "  validation_steps=len(test_set)\n",
    ")"
   ]
  },
  {
   "cell_type": "code",
   "execution_count": 18,
   "metadata": {},
   "outputs": [
    {
     "data": {
      "image/png": "[encoded data removed]",
      "text/plain": [
       "<Figure size 432x288 with 1 Axes>"
      ]
     },
     "metadata": {
      "needs_background": "light"
     },
     "output_type": "display_data"
    },
    {
     "data": {
      "image/png": "[encoded data removed]",
      "text/plain": [
       "<Figure size 432x288 with 1 Axes>"
      ]
     },
     "metadata": {
      "needs_background": "light"
     },
     "output_type": "display_data"
    }
   ],
   "source": [
    "# accuracy\n",
    "plt.plot(r.history['accuracy'], label='train acc')\n",
    "plt.plot(r.history['val_accuracy'], label='val acc')\n",
    "plt.legend()\n",
    "plt.show()\n",
    "\n",
    "# loss\n",
    "plt.plot(r.history['loss'], label='train loss')\n",
    "plt.plot(r.history['val_loss'], label='val loss')\n",
    "plt.legend()\n",
    "plt.show()"
   ]
  },
  {
   "cell_type": "code",
   "execution_count": 19,
   "metadata": {},
   "outputs": [],
   "source": [
    "y_pred = model.predict(test_set)"
   ]
  },
  {
   "cell_type": "code",
   "execution_count": 20,
   "metadata": {},
   "outputs": [
    {
     "data": {
      "text/plain": [
       "array([[6.92273438e-01, 3.07726622e-01],\n",
       "       [1.64288118e-01, 8.35711896e-01],\n",
       "       [9.94068146e-01, 5.93189569e-03],\n",
       "       [9.06441867e-01, 9.35581326e-02],\n",
       "       [9.96429980e-01, 3.57008330e-03],\n",
       "       [1.70634821e-01, 8.29365253e-01],\n",
       "       [6.05492927e-02, 9.39450681e-01],\n",
       "       [5.38432419e-01, 4.61567581e-01],\n",
       "       [9.69832540e-01, 3.01674809e-02],\n",
       "       [6.70183301e-01, 3.29816669e-01],\n",
       "       [5.82030594e-01, 4.17969435e-01],\n",
       "       [8.40429068e-01, 1.59570992e-01],\n",
       "       [1.98391423e-01, 8.01608622e-01],\n",
       "       [2.25936130e-01, 7.74063885e-01],\n",
       "       [9.94700432e-01, 5.29956445e-03],\n",
       "       [2.02905834e-02, 9.79709387e-01],\n",
       "       [5.39612055e-01, 4.60387945e-01],\n",
       "       [9.91181135e-01, 8.81882478e-03],\n",
       "       [1.97028279e-01, 8.02971721e-01],\n",
       "       [4.82625127e-01, 5.17374873e-01],\n",
       "       [9.96924341e-01, 3.07567092e-03],\n",
       "       [9.99286950e-01, 7.13019224e-04],\n",
       "       [6.66495040e-02, 9.33350503e-01],\n",
       "       [2.53244668e-01, 7.46755302e-01],\n",
       "       [9.98983443e-01, 1.01655093e-03],\n",
       "       [9.92740333e-01, 7.25969858e-03],\n",
       "       [8.49562943e-01, 1.50437117e-01],\n",
       "       [9.67225671e-01, 3.27743255e-02],\n",
       "       [8.96949291e-01, 1.03050739e-01],\n",
       "       [9.68307853e-01, 3.16921435e-02],\n",
       "       [9.30646062e-01, 6.93539456e-02],\n",
       "       [9.52899516e-01, 4.71004918e-02],\n",
       "       [8.28062594e-01, 1.71937361e-01],\n",
       "       [9.96685684e-01, 3.31431534e-03],\n",
       "       [8.90208006e-01, 1.09791957e-01],\n",
       "       [2.12711826e-01, 7.87288129e-01],\n",
       "       [3.81994814e-01, 6.18005216e-01],\n",
       "       [8.17728162e-01, 1.82271808e-01],\n",
       "       [1.55150801e-01, 8.44849288e-01],\n",
       "       [5.16461372e-01, 4.83538628e-01],\n",
       "       [1.57187060e-01, 8.42812896e-01],\n",
       "       [7.19488263e-01, 2.80511737e-01],\n",
       "       [7.06665933e-01, 2.93334037e-01],\n",
       "       [1.44103736e-01, 8.55896235e-01],\n",
       "       [9.55027342e-01, 4.49725799e-02],\n",
       "       [9.99011159e-01, 9.88865388e-04],\n",
       "       [2.32735872e-01, 7.67264187e-01],\n",
       "       [7.72010148e-01, 2.27989927e-01],\n",
       "       [9.33163583e-01, 6.68363497e-02],\n",
       "       [9.99945402e-01, 5.45464973e-05],\n",
       "       [9.80322540e-01, 1.96775328e-02],\n",
       "       [4.43271428e-01, 5.56728601e-01],\n",
       "       [1.23771325e-01, 8.76228631e-01],\n",
       "       [9.99179184e-01, 8.20745016e-04],\n",
       "       [9.65889037e-01, 3.41109335e-02],\n",
       "       [6.88948154e-01, 3.11051875e-01],\n",
       "       [2.36069351e-01, 7.63930678e-01],\n",
       "       [9.91050363e-01, 8.94965418e-03],\n",
       "       [9.99384046e-01, 6.15953701e-04],\n",
       "       [1.12131715e-01, 8.87868285e-01],\n",
       "       [9.99973774e-01, 2.62375652e-05],\n",
       "       [9.82065260e-01, 1.79347638e-02],\n",
       "       [2.49447331e-01, 7.50552654e-01],\n",
       "       [9.99905944e-01, 9.40138343e-05],\n",
       "       [4.38195109e-01, 5.61804891e-01],\n",
       "       [9.19774354e-01, 8.02256167e-02],\n",
       "       [9.99942183e-01, 5.78159925e-05],\n",
       "       [8.89795184e-01, 1.10204868e-01],\n",
       "       [9.99990940e-01, 9.02038482e-06],\n",
       "       [9.99121368e-01, 8.78615247e-04],\n",
       "       [2.22473502e-01, 7.77526557e-01],\n",
       "       [1.12622343e-01, 8.87377620e-01],\n",
       "       [9.91541326e-01, 8.45866185e-03],\n",
       "       [9.51620519e-01, 4.83795218e-02],\n",
       "       [9.92202401e-01, 7.79758394e-03],\n",
       "       [9.33964312e-01, 6.60357103e-02],\n",
       "       [9.99629021e-01, 3.70937458e-04],\n",
       "       [9.34094310e-01, 6.59056231e-02],\n",
       "       [7.11541474e-02, 9.28845882e-01],\n",
       "       [4.02690202e-01, 5.97309768e-01],\n",
       "       [9.38743174e-01, 6.12568669e-02],\n",
       "       [4.46023464e-01, 5.53976536e-01],\n",
       "       [8.44064653e-02, 9.15593565e-01],\n",
       "       [1.57938585e-01, 8.42061400e-01],\n",
       "       [9.99729931e-01, 2.70068151e-04],\n",
       "       [8.72728050e-01, 1.27271965e-01],\n",
       "       [4.32022661e-01, 5.67977309e-01],\n",
       "       [9.99832511e-01, 1.67437232e-04],\n",
       "       [2.86725700e-01, 7.13274300e-01],\n",
       "       [8.43871951e-01, 1.56128034e-01],\n",
       "       [9.35182124e-02, 9.06481802e-01],\n",
       "       [8.45702171e-01, 1.54297769e-01],\n",
       "       [8.96096647e-01, 1.03903338e-01],\n",
       "       [9.98979270e-01, 1.02073851e-03],\n",
       "       [9.98258173e-01, 1.74183247e-03],\n",
       "       [9.99466002e-01, 5.34066930e-04],\n",
       "       [1.79450110e-01, 8.20549905e-01],\n",
       "       [9.97361243e-01, 2.63878773e-03],\n",
       "       [9.99105632e-01, 8.94374039e-04],\n",
       "       [4.38712649e-02, 9.56128776e-01],\n",
       "       [6.06832266e-01, 3.93167704e-01],\n",
       "       [8.39884460e-01, 1.60115570e-01],\n",
       "       [9.99621749e-01, 3.78277851e-04],\n",
       "       [3.23960215e-01, 6.76039815e-01],\n",
       "       [4.44247089e-02, 9.55575228e-01],\n",
       "       [5.79682440e-02, 9.42031741e-01],\n",
       "       [9.96745706e-01, 3.25427717e-03],\n",
       "       [6.05001390e-01, 3.94998610e-01],\n",
       "       [9.99935031e-01, 6.49505746e-05],\n",
       "       [8.57946694e-01, 1.42053366e-01],\n",
       "       [7.59978414e-01, 2.40021646e-01],\n",
       "       [8.86510491e-01, 1.13489568e-01],\n",
       "       [9.99953985e-01, 4.60258489e-05],\n",
       "       [1.41018406e-01, 8.58981609e-01],\n",
       "       [2.15538770e-01, 7.84461260e-01],\n",
       "       [9.99891400e-01, 1.08547523e-04],\n",
       "       [9.08259928e-01, 9.17400941e-02],\n",
       "       [2.16196343e-01, 7.83803642e-01],\n",
       "       [4.91062701e-01, 5.08937299e-01],\n",
       "       [9.98850465e-01, 1.14952831e-03],\n",
       "       [9.37379658e-01, 6.26202971e-02],\n",
       "       [8.25401247e-01, 1.74598813e-01],\n",
       "       [9.98952627e-01, 1.04734360e-03],\n",
       "       [9.99999404e-01, 5.51680841e-07],\n",
       "       [6.64708316e-01, 3.35291713e-01],\n",
       "       [9.99999642e-01, 3.48585843e-07],\n",
       "       [9.99753177e-01, 2.46815034e-04],\n",
       "       [1.35601208e-01, 8.64398777e-01],\n",
       "       [9.43398058e-01, 5.66018820e-02],\n",
       "       [9.98249471e-01, 1.75052171e-03],\n",
       "       [9.97196436e-01, 2.80349446e-03],\n",
       "       [7.42799714e-02, 9.25719976e-01],\n",
       "       [4.22391087e-01, 5.77608943e-01],\n",
       "       [9.15458024e-01, 8.45420510e-02]], dtype=float32)"
      ]
     },
     "execution_count": 20,
     "metadata": {},
     "output_type": "execute_result"
    }
   ],
   "source": [
    "y_pred"
   ]
  },
  {
   "cell_type": "code",
   "execution_count": 21,
   "metadata": {},
   "outputs": [
    {
     "data": {
      "text/plain": [
       "array([0, 1, 0, 0, 0, 1, 1, 0, 0, 0, 0, 0, 1, 1, 0, 1, 0, 0, 1, 1, 0, 0,\n",
       "       1, 1, 0, 0, 0, 0, 0, 0, 0, 0, 0, 0, 0, 1, 1, 0, 1, 0, 1, 0, 0, 1,\n",
       "       0, 0, 1, 0, 0, 0, 0, 1, 1, 0, 0, 0, 1, 0, 0, 1, 0, 0, 1, 0, 1, 0,\n",
       "       0, 0, 0, 0, 1, 1, 0, 0, 0, 0, 0, 0, 1, 1, 0, 1, 1, 1, 0, 0, 1, 0,\n",
       "       1, 0, 1, 0, 0, 0, 0, 0, 1, 0, 0, 1, 0, 0, 0, 1, 1, 1, 0, 0, 0, 0,\n",
       "       0, 0, 0, 1, 1, 0, 0, 1, 1, 0, 0, 0, 0, 0, 0, 0, 0, 1, 0, 0, 0, 1,\n",
       "       1, 0])"
      ]
     },
     "execution_count": 21,
     "metadata": {},
     "output_type": "execute_result"
    }
   ],
   "source": [
    "y_pred = np.argmax(y_pred, axis=1)\n",
    "y_pred"
   ]
  },
  {
   "cell_type": "code",
   "execution_count": 36,
   "metadata": {},
   "outputs": [],
   "source": [
    "img=image.load_img('/Users/akshayadlakha/Downloads/Dataset/Test/Uninfected/C3thin_original_IMG_20150608_163047_cell_103.png',target_size=(224,224))"
   ]
  },
  {
   "cell_type": "code",
   "execution_count": 37,
   "metadata": {},
   "outputs": [
    {
     "data": {
      "text/plain": [
       "array([[[0., 0., 0.],\n",
       "        [0., 0., 0.],\n",
       "        [0., 0., 0.],\n",
       "        ...,\n",
       "        [0., 0., 0.],\n",
       "        [0., 0., 0.],\n",
       "        [0., 0., 0.]],\n",
       "\n",
       "       [[0., 0., 0.],\n",
       "        [0., 0., 0.],\n",
       "        [0., 0., 0.],\n",
       "        ...,\n",
       "        [0., 0., 0.],\n",
       "        [0., 0., 0.],\n",
       "        [0., 0., 0.]],\n",
       "\n",
       "       [[0., 0., 0.],\n",
       "        [0., 0., 0.],\n",
       "        [0., 0., 0.],\n",
       "        ...,\n",
       "        [0., 0., 0.],\n",
       "        [0., 0., 0.],\n",
       "        [0., 0., 0.]],\n",
       "\n",
       "       ...,\n",
       "\n",
       "       [[0., 0., 0.],\n",
       "        [0., 0., 0.],\n",
       "        [0., 0., 0.],\n",
       "        ...,\n",
       "        [0., 0., 0.],\n",
       "        [0., 0., 0.],\n",
       "        [0., 0., 0.]],\n",
       "\n",
       "       [[0., 0., 0.],\n",
       "        [0., 0., 0.],\n",
       "        [0., 0., 0.],\n",
       "        ...,\n",
       "        [0., 0., 0.],\n",
       "        [0., 0., 0.],\n",
       "        [0., 0., 0.]],\n",
       "\n",
       "       [[0., 0., 0.],\n",
       "        [0., 0., 0.],\n",
       "        [0., 0., 0.],\n",
       "        ...,\n",
       "        [0., 0., 0.],\n",
       "        [0., 0., 0.],\n",
       "        [0., 0., 0.]]], dtype=float32)"
      ]
     },
     "execution_count": 37,
     "metadata": {},
     "output_type": "execute_result"
    }
   ],
   "source": [
    "imgx=image.img_to_array(img)\n",
    "imgx"
   ]
  },
  {
   "cell_type": "code",
   "execution_count": 38,
   "metadata": {},
   "outputs": [
    {
     "data": {
      "text/plain": [
       "(1, 224, 224, 3)"
      ]
     },
     "execution_count": 38,
     "metadata": {},
     "output_type": "execute_result"
    }
   ],
   "source": [
    "imgx=imgx/255\n",
    "imgx=np.expand_dims(imgx,axis=0)\n",
    "img_data=preprocess_input(imgx)\n",
    "img_data.shape"
   ]
  },
  {
   "cell_type": "code",
   "execution_count": 39,
   "metadata": {},
   "outputs": [],
   "source": [
    "result = model.predict(img_data)"
   ]
  },
  {
   "cell_type": "code",
   "execution_count": 40,
   "metadata": {},
   "outputs": [
    {
     "data": {
      "text/plain": [
       "array([[0.04185897, 0.958141  ]], dtype=float32)"
      ]
     },
     "execution_count": 40,
     "metadata": {},
     "output_type": "execute_result"
    }
   ],
   "source": [
    "result"
   ]
  },
  {
   "cell_type": "code",
   "execution_count": 41,
   "metadata": {},
   "outputs": [],
   "source": [
    "img1=image.load_img('/Users/akshayadlakha/Downloads/Dataset/Test/Parasite/C39P4thinF_original_IMG_20150622_105554_cell_13.png',target_size=(224,224))"
   ]
  },
  {
   "cell_type": "code",
   "execution_count": 42,
   "metadata": {},
   "outputs": [
    {
     "data": {
      "text/plain": [
       "array([[[0., 0., 0.],\n",
       "        [0., 0., 0.],\n",
       "        [0., 0., 0.],\n",
       "        ...,\n",
       "        [0., 0., 0.],\n",
       "        [0., 0., 0.],\n",
       "        [0., 0., 0.]],\n",
       "\n",
       "       [[0., 0., 0.],\n",
       "        [0., 0., 0.],\n",
       "        [0., 0., 0.],\n",
       "        ...,\n",
       "        [0., 0., 0.],\n",
       "        [0., 0., 0.],\n",
       "        [0., 0., 0.]],\n",
       "\n",
       "       [[0., 0., 0.],\n",
       "        [0., 0., 0.],\n",
       "        [0., 0., 0.],\n",
       "        ...,\n",
       "        [0., 0., 0.],\n",
       "        [0., 0., 0.],\n",
       "        [0., 0., 0.]],\n",
       "\n",
       "       ...,\n",
       "\n",
       "       [[0., 0., 0.],\n",
       "        [0., 0., 0.],\n",
       "        [0., 0., 0.],\n",
       "        ...,\n",
       "        [0., 0., 0.],\n",
       "        [0., 0., 0.],\n",
       "        [0., 0., 0.]],\n",
       "\n",
       "       [[0., 0., 0.],\n",
       "        [0., 0., 0.],\n",
       "        [0., 0., 0.],\n",
       "        ...,\n",
       "        [0., 0., 0.],\n",
       "        [0., 0., 0.],\n",
       "        [0., 0., 0.]],\n",
       "\n",
       "       [[0., 0., 0.],\n",
       "        [0., 0., 0.],\n",
       "        [0., 0., 0.],\n",
       "        ...,\n",
       "        [0., 0., 0.],\n",
       "        [0., 0., 0.],\n",
       "        [0., 0., 0.]]], dtype=float32)"
      ]
     },
     "execution_count": 42,
     "metadata": {},
     "output_type": "execute_result"
    }
   ],
   "source": [
    "imgnor=image.img_to_array(img1)\n",
    "imgnor"
   ]
  },
  {
   "cell_type": "code",
   "execution_count": 43,
   "metadata": {},
   "outputs": [
    {
     "data": {
      "text/plain": [
       "(1, 224, 224, 3)"
      ]
     },
     "execution_count": 43,
     "metadata": {},
     "output_type": "execute_result"
    }
   ],
   "source": [
    "imgx=imgx/255\n",
    "imgnor=np.expand_dims(imgnor,axis=0)\n",
    "img_datanor=preprocess_input(imgnor)\n",
    "img_datanor.shape"
   ]
  },
  {
   "cell_type": "code",
   "execution_count": 44,
   "metadata": {},
   "outputs": [
    {
     "data": {
      "text/plain": [
       "array([[1., 0.]], dtype=float32)"
      ]
     },
     "execution_count": 44,
     "metadata": {},
     "output_type": "execute_result"
    }
   ],
   "source": [
    "resultnor = model.predict(img_datanor)\n",
    "resultnor"
   ]
  },
  {
   "cell_type": "code",
   "execution_count": null,
   "metadata": {},
   "outputs": [],
   "source": [
    "from tensorflow.keras.applications.resnet50 import ResNet50\n",
    "from tensorflow.keras.applications.resnet50 import preprocess_input as resnetpre"
   ]
  },
  {
   "cell_type": "code",
   "execution_count": null,
   "metadata": {},
   "outputs": [],
   "source": [
    "model_resnet = ResNet50(input_shape=IMAGE_SIZE + [3],weights='imagenet', include_top=False)\n",
    "\n",
    "for layer in model_resnet.layers:\n",
    "    layer.trainable = False"
   ]
  },
  {
   "cell_type": "code",
   "execution_count": null,
   "metadata": {},
   "outputs": [],
   "source": [
    "resx = Flatten()(model_resnet.output)"
   ]
  },
  {
   "cell_type": "code",
   "execution_count": null,
   "metadata": {},
   "outputs": [],
   "source": [
    "predictionresnet = Dense(len(folders), activation='softmax')(resx)\n",
    "\n",
    "modelresnet = Model(inputs=model_resnet.input, outputs=predictionresnet)"
   ]
  },
  {
   "cell_type": "code",
   "execution_count": null,
   "metadata": {},
   "outputs": [],
   "source": [
    "modelresnet.summary()"
   ]
  },
  {
   "cell_type": "code",
   "execution_count": null,
   "metadata": {},
   "outputs": [],
   "source": [
    "# modelresnet=Sequential()\n",
    "# modelresnet.add(Conv2D(filters=16,kernel_size=2,padding=\"same\",activation=\"relu\",input_shape=(224,224,3)))\n",
    "# modelresnet.add(MaxPooling2D(pool_size=2))\n",
    "# modelresnet.add(Conv2D(filters=32,kernel_size=2,padding=\"same\",activation =\"relu\"))\n",
    "# modelresnet.add(MaxPooling2D(pool_size=2))\n",
    "# modelresnet.add(Conv2D(filters=64,kernel_size=2,padding=\"same\",activation=\"relu\"))\n",
    "# modelresnet.add(MaxPooling2D(pool_size=2))\n",
    "# modelresnet.add(Flatten())\n",
    "# modelresnet.add(Dense(500,activation=\"relu\"))\n",
    "# modelresnet.add(Dense(2,activation=\"softmax\"))\n",
    "# modelresnet.summary()"
   ]
  },
  {
   "cell_type": "code",
   "execution_count": null,
   "metadata": {},
   "outputs": [],
   "source": [
    "modelresnet.compile(\n",
    "  loss='categorical_crossentropy',\n",
    "  optimizer='adam',\n",
    "  metrics=['accuracy']\n",
    ")"
   ]
  },
  {
   "cell_type": "code",
   "execution_count": null,
   "metadata": {},
   "outputs": [],
   "source": [
    "resnet = modelresnet.fit_generator(\n",
    "  training_set,\n",
    "  validation_data=test_set,\n",
    "  epochs=30,\n",
    "  steps_per_epoch=len(training_set),\n",
    "  validation_steps=len(test_set)\n",
    ")"
   ]
  },
  {
   "cell_type": "code",
   "execution_count": null,
   "metadata": {},
   "outputs": [],
   "source": [
    "plt.plot(resnet.history['loss'], label='train loss')\n",
    "plt.plot(resnet.history['val_loss'], label='val loss')\n",
    "plt.legend()\n",
    "plt.show()\n",
    "\n",
    "plt.plot(resnet.history['accuracy'], label='train acc')\n",
    "plt.plot(resnet.history['val_accuracy'], label='val acc')\n",
    "plt.legend()\n",
    "plt.show()"
   ]
  },
  {
   "cell_type": "code",
   "execution_count": null,
   "metadata": {},
   "outputs": [],
   "source": [
    "y_pred_res = modelresnet.predict(test_set)"
   ]
  },
  {
   "cell_type": "code",
   "execution_count": null,
   "metadata": {},
   "outputs": [],
   "source": [
    "y_pred_res = np.argmax(y_pred_res, axis=1)\n",
    "y_pred_res"
   ]
  },
  {
   "cell_type": "code",
   "execution_count": null,
   "metadata": {},
   "outputs": [],
   "source": [
    "# modelresnet.predict(img_data)"
   ]
  },
  {
   "cell_type": "code",
   "execution_count": null,
   "metadata": {},
   "outputs": [],
   "source": [
    "# modelresnet.predict(img_datanor)"
   ]
  },
  {
   "cell_type": "code",
   "execution_count": null,
   "metadata": {},
   "outputs": [],
   "source": [
    "from keras.models import load_model\n",
    "\n",
    "model.save('model_vgg19new.h5')"
   ]
  },
  {
   "cell_type": "code",
   "execution_count": null,
   "metadata": {},
   "outputs": [],
   "source": [
    "modelresnet.save('model_resnetnew.h5')"
   ]
  },
  {
   "cell_type": "code",
   "execution_count": null,
   "metadata": {},
   "outputs": [],
   "source": []
  }
 ],
 "metadata": {
  "kernelspec": {
   "display_name": "Python 3",
   "language": "python",
   "name": "python3"
  },
  "language_info": {
   "codemirror_mode": {
    "name": "ipython",
    "version": 3
   },
   "file_extension": ".py",
   "mimetype": "text/x-python",
   "name": "python",
   "nbconvert_exporter": "python",
   "pygments_lexer": "ipython3",
   "version": "3.7.4"
  }
 },
 "nbformat": 4,
 "nbformat_minor": 2
}
